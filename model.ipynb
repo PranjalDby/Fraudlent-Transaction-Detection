{
 "cells": [
  {
   "cell_type": "code",
   "execution_count": 49,
   "id": "87c76b32",
   "metadata": {},
   "outputs": [],
   "source": [
    "import pandas as pd\n",
    "import numpy as np\n",
    "import seaborn as sn\n",
    "import matplotlib.pyplot as plt\n",
    "from sklearn.model_selection import train_test_split\n",
    "from sklearn.ensemble import RandomForestClassifier\n",
    "from sklearn.metrics import classification_report\n",
    "from sklearn.preprocessing import StandardScaler"
   ]
  },
  {
   "cell_type": "code",
   "execution_count": 50,
   "id": "bb13cfbc",
   "metadata": {},
   "outputs": [],
   "source": [
    "df = pd.read_csv('Fraud.csv')"
   ]
  },
  {
   "cell_type": "code",
   "execution_count": 51,
   "id": "fddfcea6",
   "metadata": {},
   "outputs": [
    {
     "name": "stdout",
     "output_type": "stream",
     "text": [
      "<class 'pandas.core.frame.DataFrame'>\n",
      "RangeIndex: 6362620 entries, 0 to 6362619\n",
      "Data columns (total 11 columns):\n",
      " #   Column          Dtype  \n",
      "---  ------          -----  \n",
      " 0   step            int64  \n",
      " 1   type            object \n",
      " 2   amount          float64\n",
      " 3   nameOrig        object \n",
      " 4   oldbalanceOrg   float64\n",
      " 5   newbalanceOrig  float64\n",
      " 6   nameDest        object \n",
      " 7   oldbalanceDest  float64\n",
      " 8   newbalanceDest  float64\n",
      " 9   isFraud         int64  \n",
      " 10  isFlaggedFraud  int64  \n",
      "dtypes: float64(5), int64(3), object(3)\n",
      "memory usage: 534.0+ MB\n"
     ]
    }
   ],
   "source": [
    "df.info()"
   ]
  },
  {
   "cell_type": "code",
   "execution_count": 52,
   "id": "faf95701",
   "metadata": {},
   "outputs": [],
   "source": [
    "## encoding the categorical variable\n",
    "from sklearn.preprocessing import LabelEncoder\n",
    "encoder = LabelEncoder()\n",
    "\n",
    "df['type'] = encoder.fit_transform(df['type'])\n",
    "df['nameDest'] = encoder.fit_transform(df['nameDest'])\n",
    "df['nameOrig'] = encoder.fit_transform(df['nameOrig'])"
   ]
  },
  {
   "cell_type": "code",
   "execution_count": 54,
   "id": "c8c9ced4",
   "metadata": {},
   "outputs": [
    {
     "name": "stdout",
     "output_type": "stream",
     "text": [
      "                    step      type    amount  nameOrig  oldbalanceOrg  \\\n",
      "step            1.000000  0.006635  0.022373 -0.000146      -0.010058   \n",
      "type            0.006635  1.000000  0.088419  0.000213      -0.339760   \n",
      "amount          0.022373  0.088419  1.000000  0.000124      -0.002762   \n",
      "nameOrig       -0.000146  0.000213  0.000124  1.000000      -0.000648   \n",
      "oldbalanceOrg  -0.010058 -0.339760 -0.002762 -0.000648       1.000000   \n",
      "newbalanceOrig -0.010299 -0.352758 -0.007861 -0.000675       0.998803   \n",
      "nameDest        0.003767  0.584275 -0.169150 -0.000256      -0.162688   \n",
      "oldbalanceDest  0.027665 -0.104679  0.294137  0.000245       0.066243   \n",
      "newbalanceDest  0.025888 -0.059364  0.459304  0.000255       0.042029   \n",
      "isFraud         0.031578  0.020833  0.076688 -0.000464       0.010154   \n",
      "isFlaggedFraud  0.003277  0.002685  0.012295  0.000667       0.003835   \n",
      "\n",
      "                newbalanceOrig  nameDest  oldbalanceDest  newbalanceDest  \\\n",
      "step                 -0.010299  0.003767        0.027665        0.025888   \n",
      "type                 -0.352758  0.584275       -0.104679       -0.059364   \n",
      "amount               -0.007861 -0.169150        0.294137        0.459304   \n",
      "nameOrig             -0.000675 -0.000256        0.000245        0.000255   \n",
      "oldbalanceOrg         0.998803 -0.162688        0.066243        0.042029   \n",
      "newbalanceOrig        1.000000 -0.166489        0.067812        0.041837   \n",
      "nameDest             -0.166489  1.000000       -0.198119       -0.203992   \n",
      "oldbalanceDest        0.067812 -0.198119        1.000000        0.976569   \n",
      "newbalanceDest        0.041837 -0.203992        0.976569        1.000000   \n",
      "isFraud              -0.008148 -0.021963       -0.005885        0.000535   \n",
      "isFlaggedFraud        0.003776 -0.001122       -0.000513       -0.000529   \n",
      "\n",
      "                 isFraud  isFlaggedFraud  \n",
      "step            0.031578        0.003277  \n",
      "type            0.020833        0.002685  \n",
      "amount          0.076688        0.012295  \n",
      "nameOrig       -0.000464        0.000667  \n",
      "oldbalanceOrg   0.010154        0.003835  \n",
      "newbalanceOrig -0.008148        0.003776  \n",
      "nameDest       -0.021963       -0.001122  \n",
      "oldbalanceDest -0.005885       -0.000513  \n",
      "newbalanceDest  0.000535       -0.000529  \n",
      "isFraud         1.000000        0.044109  \n",
      "isFlaggedFraud  0.044109        1.000000  \n"
     ]
    }
   ],
   "source": [
    "corr = df.corr()\n",
    "print(corr)"
   ]
  },
  {
   "cell_type": "code",
   "execution_count": 56,
   "id": "fc51edbc",
   "metadata": {},
   "outputs": [
    {
     "name": "stdout",
     "output_type": "stream",
     "text": [
      "isFraud           1.000000\n",
      "amount            0.076688\n",
      "isFlaggedFraud    0.044109\n",
      "step              0.031578\n",
      "type              0.020833\n",
      "oldbalanceOrg     0.010154\n",
      "newbalanceDest    0.000535\n",
      "nameOrig         -0.000464\n",
      "oldbalanceDest   -0.005885\n",
      "newbalanceOrig   -0.008148\n",
      "nameDest         -0.021963\n",
      "Name: isFraud, dtype: float64\n"
     ]
    }
   ],
   "source": [
    "corr = correlations = df.corr()['isFraud'].sort_values(ascending=False)\n",
    "print(correlations)\n",
    "# dropping the feature that is not correlated to target (only numerical values not encoded categorical)\n",
    "# oldbalanceOrg     0.010154\n",
    "# newbalanceDest    0.000535 \n",
    "# oldbalanceDest   -0.005885\n",
    "# newbalanceOrig   -0.008148\n",
    "df = df.drop(['oldbalanceOrg','newbalanceDest','oldbalanceDest','newbalanceOrig'],axis=1)"
   ]
  },
  {
   "cell_type": "code",
   "execution_count": 58,
   "id": "018d3325",
   "metadata": {},
   "outputs": [],
   "source": [
    "# plt.figure(figsize=(10,5))\n",
    "# sn.boxplot(data=df)\n",
    "# plt.show()"
   ]
  },
  {
   "cell_type": "code",
   "execution_count": 59,
   "id": "c41a773c",
   "metadata": {},
   "outputs": [],
   "source": [
    "# capping the outliers\n",
    "def cap_outliers(df):\n",
    "    for cols in ['amount']:\n",
    "        Q1 = df[cols].quantile(0.25) # first quantile range\n",
    "        Q3 = df[cols].quantile(0.75) # third quantile range\n",
    "        IQR = Q3 - Q1\n",
    "        lower = Q1 - 1.5 * IQR\n",
    "        upper = Q3 + 1.5 * IQR\n",
    "        df[cols] = df[cols].apply(lambda x: lower if x < lower else upper if x > upper else x)\n",
    "    \n",
    "    return df"
   ]
  },
  {
   "cell_type": "code",
   "execution_count": 60,
   "id": "77d6e449",
   "metadata": {},
   "outputs": [],
   "source": [
    "df = cap_outliers(df)"
   ]
  },
  {
   "cell_type": "code",
   "execution_count": 61,
   "id": "cf2d5292",
   "metadata": {},
   "outputs": [
    {
     "data": {
      "image/png": "[encoded data removed]",
      "text/plain": [
       "<Figure size 1000x500 with 1 Axes>"
      ]
     },
     "metadata": {},
     "output_type": "display_data"
    }
   ],
   "source": [
    "plt.figure(figsize=(10,5))\n",
    "sn.boxplot(data=df)\n",
    "plt.show()"
   ]
  },
  {
   "cell_type": "code",
   "execution_count": 62,
   "id": "aabf6477",
   "metadata": {},
   "outputs": [
    {
     "data": {
      "image/png": "[encoded data removed]",
      "text/plain": [
       "<Figure size 800x500 with 2 Axes>"
      ]
     },
     "metadata": {},
     "output_type": "display_data"
    }
   ],
   "source": [
    "corr = df.corr()\n",
    "plt.figure(figsize=(8,5))\n",
    "sn.heatmap(corr, cmap='coolwarm', annot=True, center=0,)\n",
    "plt.title('Correlation Heatmap')\n",
    "plt.show()"
   ]
  },
  {
   "cell_type": "code",
   "execution_count": 63,
   "id": "72db07fe",
   "metadata": {},
   "outputs": [],
   "source": [
    "# performing the scaling operation\n",
    "scaler = StandardScaler()\n",
    "scaled_data = scaler.fit_transform(df)\n",
    "scaled_df = pd.DataFrame(scaled_data, columns=df.columns)"
   ]
  },
  {
   "cell_type": "code",
   "execution_count": 64,
   "id": "ff085b61",
   "metadata": {},
   "outputs": [
    {
     "data": {
      "application/vnd.microsoft.datawrangler.viewer.v0+json": {
       "columns": [
        {
         "name": "index",
         "rawType": "int64",
         "type": "integer"
        },
        {
         "name": "step",
         "rawType": "float64",
         "type": "float"
        },
        {
         "name": "type",
         "rawType": "float64",
         "type": "float"
        },
        {
         "name": "amount",
         "rawType": "float64",
         "type": "float"
        },
        {
         "name": "nameOrig",
         "rawType": "float64",
         "type": "float"
        },
        {
         "name": "nameDest",
         "rawType": "float64",
         "type": "float"
        },
        {
         "name": "isFraud",
         "rawType": "float64",
         "type": "float"
        },
        {
         "name": "isFlaggedFraud",
         "rawType": "float64",
         "type": "float"
        }
       ],
       "ref": "6140a980-6382-4dd5-82fd-3580c7eeeddc",
       "rows": [
        [
         "0",
         "-1.7030415787355935",
         "0.9523993234594449",
         "-0.8371836588210443",
         "-1.318824792756777",
         "1.2204898365467858",
         "-0.03595120052483631",
         "-0.0015857785688573598"
        ],
        [
         "1",
         "-1.7030415787355935",
         "0.9523993234594449",
         "-0.8917209657639286",
         "-0.5385199733190021",
         "1.3162318356587939",
         "-0.03595120052483631",
         "-0.0015857785688573598"
        ],
        [
         "2",
         "-1.7030415787355935",
         "1.6930761636518983",
         "-0.9032316133122296",
         "-1.1856304242365419",
         "-0.4088555816978309",
         "27.81548280450792",
         "-0.0015857785688573598"
        ],
        [
         "3",
         "-1.7030415787355935",
         "-0.528954356925462",
         "-0.9032316133122296",
         "1.4457422688732775",
         "-0.47281998090966665",
         "27.81548280450792",
         "-0.0015857785688573598"
        ],
        [
         "4",
         "-1.7030415787355935",
         "0.9523993234594449",
         "-0.824679964223551",
         "0.14683396252560224",
         "0.10995329039409993",
         "-0.03595120052483631",
         "-0.0015857785688573598"
        ],
        [
         "5",
         "-1.7030415787355935",
         "0.9523993234594449",
         "-0.8510100712998572",
         "1.5538426388722026",
         "2.000399922700408",
         "-0.03595120052483631",
         "-0.0015857785688573598"
        ],
        [
         "6",
         "-1.7030415787355935",
         "0.9523993234594449",
         "-0.8558648008281834",
         "-0.7473736415700537",
         "1.7553401253074208",
         "-0.03595120052483631",
         "-0.0015857785688573598"
        ],
        [
         "7",
         "-1.7030415787355935",
         "0.9523993234594449",
         "-0.8507096680711628",
         "-0.09678348661629362",
         "2.089424120399016",
         "-0.03595120052483631",
         "-0.0015857785688573598"
        ],
        [
         "8",
         "-1.7030415787355935",
         "0.9523993234594449",
         "-0.8769498524873887",
         "-1.2581557003383714",
         "0.03000745488332256",
         "-0.03595120052483631",
         "-0.0015857785688573598"
        ],
        [
         "9",
         "-1.7030415787355935",
         "0.21172248326699147",
         "-0.8679684592572581",
         "1.2162050260979365",
         "-0.6177538806095597",
         "-0.03595120052483631",
         "-0.0015857785688573598"
        ],
        [
         "10",
         "-1.7030415787355935",
         "0.21172248326699147",
         "-0.8385150612482425",
         "-0.11926579878011478",
         "-0.23347831210070452",
         "-0.03595120052483631",
         "-0.0015857785688573598"
        ],
        [
         "11",
         "-1.7030415787355935",
         "0.9523993234594449",
         "-0.8832710393886611",
         "0.3861205923068435",
         "1.3932866173470189",
         "-0.03595120052483631",
         "-0.0015857785688573598"
        ],
        [
         "12",
         "-1.7030415787355935",
         "0.9523993234594449",
         "-0.8869584155099661",
         "-0.5712145789015644",
         "2.593444499101726",
         "-0.03595120052483631",
         "-0.0015857785688573598"
        ],
        [
         "13",
         "-1.7030415787355935",
         "0.9523993234594449",
         "-0.8249150624025293",
         "-0.4479756970622044",
         "2.3389877771126137",
         "-0.03595120052483631",
         "-0.0015857785688573598"
        ],
        [
         "14",
         "-1.7030415787355935",
         "0.9523993234594449",
         "-0.8764409517753594",
         "-1.6845622969310252",
         "0.7106713554337006",
         "-0.03595120052483631",
         "-0.0015857785688573598"
        ],
        [
         "15",
         "-1.7030415787355935",
         "-0.528954356925462",
         "0.6624001279829304",
         "1.5620958949042092",
         "-0.4388484323732925",
         "-0.03595120052483631",
         "-0.0015857785688573598"
        ],
        [
         "16",
         "-1.7030415787355935",
         "0.9523993234594449",
         "-0.8937755788778267",
         "1.3048715053160718",
         "0.852668882809443",
         "-0.03595120052483631",
         "-0.0015857785688573598"
        ],
        [
         "17",
         "-1.7030415787355935",
         "0.9523993234594449",
         "-0.8965516247398987",
         "-1.30665836908642",
         "1.068658194324205",
         "-0.03595120052483631",
         "-0.0015857785688573598"
        ],
        [
         "18",
         "-1.7030415787355935",
         "0.9523993234594449",
         "-0.8998765065485904",
         "0.11974766714619912",
         "1.851664600454678",
         "-0.03595120052483631",
         "-0.0015857785688573598"
        ],
        [
         "19",
         "-1.7030415787355935",
         "1.6930761636518983",
         "0.5678709659453629",
         "-0.5305796834601059",
         "-0.9553047410734276",
         "-0.03595120052483631",
         "-0.0015857785688573598"
        ],
        [
         "20",
         "-1.7030415787355935",
         "0.9523993234594449",
         "-0.8950775085548389",
         "0.20375509418797885",
         "0.2783021935521672",
         "-0.03595120052483631",
         "-0.0015857785688573598"
        ],
        [
         "21",
         "-1.7030415787355935",
         "0.21172248326699147",
         "-0.8408547599666085",
         "-0.7177841620430029",
         "-0.6109187842508464",
         "-0.03595120052483631",
         "-0.0015857785688573598"
        ],
        [
         "22",
         "-1.7030415787355935",
         "0.21172248326699147",
         "-0.8971838186505019",
         "-0.013471782286863788",
         "-0.42374404236998925",
         "-0.03595120052483631",
         "-0.0015857785688573598"
        ],
        [
         "23",
         "-1.7030415787355935",
         "0.9523993234594449",
         "-0.877961567891107",
         "0.8427622293132426",
         "0.3682874100640812",
         "-0.03595120052483631",
         "-0.0015857785688573598"
        ],
        [
         "24",
         "-1.7030415787355935",
         "1.6930761636518983",
         "1.2269089446236383",
         "0.031219678185851186",
         "-0.25888333093788785",
         "-0.03595120052483631",
         "-0.0015857785688573598"
        ],
        [
         "25",
         "-1.7030415787355935",
         "0.9523993234594449",
         "-0.8630219607480742",
         "-1.6545573466306118",
         "0.595379754470435",
         "-0.03595120052483631",
         "-0.0015857785688573598"
        ],
        [
         "26",
         "-1.7030415787355935",
         "0.9523993234594449",
         "-0.8396539676388427",
         "-0.5294881185148672",
         "2.0174143542563705",
         "-0.03595120052483631",
         "-0.0015857785688573598"
        ],
        [
         "27",
         "-1.7030415787355935",
         "0.9523993234594449",
         "-0.8497013717799949",
         "-1.6356746906947954",
         "1.5883321166378217",
         "-0.03595120052483631",
         "-0.0015857785688573598"
        ],
        [
         "28",
         "-1.7030415787355935",
         "0.9523993234594449",
         "-0.8435955205871583",
         "-0.5994224272741523",
         "1.6460998772046385",
         "-0.03595120052483631",
         "-0.0015857785688573598"
        ],
        [
         "29",
         "-1.7030415787355935",
         "0.9523993234594449",
         "-0.8366305831748614",
         "1.3103440514476203",
         "1.161539796247095",
         "-0.03595120052483631",
         "-0.0015857785688573598"
        ],
        [
         "30",
         "-1.7030415787355935",
         "0.9523993234594449",
         "-0.8808848407396072",
         "0.2455726091929851",
         "1.64747809281207",
         "-0.03595120052483631",
         "-0.0015857785688573598"
        ],
        [
         "31",
         "-1.7030415787355935",
         "0.9523993234594449",
         "-0.8757020131709268",
         "0.3246472749662464",
         "0.8914961755023679",
         "-0.03595120052483631",
         "-0.0015857785688573598"
        ],
        [
         "32",
         "-1.7030415787355935",
         "0.9523993234594449",
         "-0.864222547929087",
         "1.4465115986124042",
         "0.9612653416101078",
         "-0.03595120052483631",
         "-0.0015857785688573598"
        ],
        [
         "33",
         "-1.7030415787355935",
         "0.9523993234594449",
         "-0.8681728538055321",
         "-0.3562329893620328",
         "1.2084950954913916",
         "-0.03595120052483631",
         "-0.0015857785688573598"
        ],
        [
         "34",
         "-1.7030415787355935",
         "0.9523993234594449",
         "-0.8700647171620224",
         "0.3823393720794559",
         "0.530658269702486",
         "-0.03595120052483631",
         "-0.0015857785688573598"
        ],
        [
         "35",
         "-1.7030415787355935",
         "0.9523993234594449",
         "-0.7388908060700429",
         "-1.3051028072538697",
         "2.1980299094794216",
         "-0.03595120052483631",
         "-0.0015857785688573598"
        ],
        [
         "36",
         "-1.7030415787355935",
         "0.9523993234594449",
         "-0.8456372094556153",
         "-0.6420141791534036",
         "0.6812543163079591",
         "-0.03595120052483631",
         "-0.0015857785688573598"
        ],
        [
         "37",
         "-1.7030415787355935",
         "0.9523993234594449",
         "-0.8853809737436278",
         "1.5947158029855237",
         "-0.11396009441484138",
         "-0.03595120052483631",
         "-0.0015857785688573598"
        ],
        [
         "38",
         "-1.7030415787355935",
         "0.9523993234594449",
         "-0.8537738767389981",
         "-0.889077527622926",
         "0.4002822721925045",
         "-0.03595120052483631",
         "-0.0015857785688573598"
        ],
        [
         "39",
         "-1.7030415787355935",
         "0.9523993234594449",
         "-0.8819360810844102",
         "1.2140115366999868",
         "0.3378080519449904",
         "-0.03595120052483631",
         "-0.0015857785688573598"
        ],
        [
         "40",
         "-1.7030415787355935",
         "0.9523993234594449",
         "-0.892948222022836",
         "-0.8698693650575854",
         "0.6123635293929633",
         "-0.03595120052483631",
         "-0.0015857785688573598"
        ],
        [
         "41",
         "-1.7030415787355935",
         "0.21172248326699147",
         "-0.8650907973701829",
         "-0.8959698715154143",
         "-0.877527529153841",
         "-0.03595120052483631",
         "-0.0015857785688573598"
        ],
        [
         "42",
         "-1.7030415787355935",
         "-0.528954356925462",
         "-0.14942869059489872",
         "1.3165221345617557",
         "-0.7937936000682854",
         "-0.03595120052483631",
         "-0.0015857785688573598"
        ],
        [
         "43",
         "-1.7030415787355935",
         "0.9523993234594449",
         "-0.8509707515055255",
         "0.4057954779456728",
         "1.547192247466276",
         "-0.03595120052483631",
         "-0.0015857785688573598"
        ],
        [
         "44",
         "-1.7030415787355935",
         "0.9523993234594449",
         "-0.8696868368429317",
         "1.0117579651832578",
         "0.6478799056749983",
         "-0.03595120052483631",
         "-0.0015857785688573598"
        ],
        [
         "45",
         "-1.7030415787355935",
         "0.9523993234594449",
         "-0.8683533829482031",
         "-0.942971502154451",
         "1.0272304193777992",
         "-0.03595120052483631",
         "-0.0015857785688573598"
        ],
        [
         "46",
         "-1.7030415787355935",
         "0.9523993234594449",
         "-0.8095822573161792",
         "0.8066827909734169",
         "1.2626133837824365",
         "-0.03595120052483631",
         "-0.0015857785688573598"
        ],
        [
         "47",
         "-1.7030415787355935",
         "-0.528954356925462",
         "-0.5150057434658936",
         "-0.7107211588958394",
         "-0.3017986190544036",
         "-0.03595120052483631",
         "-0.0015857785688573598"
        ],
        [
         "48",
         "-1.7030415787355935",
         "-0.528954356925462",
         "-0.8679060946443354",
         "0.8575997701997456",
         "-0.5287563408530682",
         "-0.03595120052483631",
         "-0.0015857785688573598"
        ],
        [
         "49",
         "-1.7030415787355935",
         "0.9523993234594449",
         "-0.8893976104035544",
         "-0.6291580303802858",
         "1.8774601581438706",
         "-0.03595120052483631",
         "-0.0015857785688573598"
        ]
       ],
       "shape": {
        "columns": 7,
        "rows": 6362620
       }
      },
      "text/html": [
       "<div>\n",
       "<style scoped>\n",
       "    .dataframe tbody tr th:only-of-type {\n",
       "        vertical-align: middle;\n",
       "    }\n",
       "\n",
       "    .dataframe tbody tr th {\n",
       "        vertical-align: top;\n",
       "    }\n",
       "\n",
       "    .dataframe thead th {\n",
       "        text-align: right;\n",
       "    }\n",
       "</style>\n",
       "<table border=\"1\" class=\"dataframe\">\n",
       "  <thead>\n",
       "    <tr style=\"text-align: right;\">\n",
       "      <th></th>\n",
       "      <th>step</th>\n",
       "      <th>type</th>\n",
       "      <th>amount</th>\n",
       "      <th>nameOrig</th>\n",
       "      <th>nameDest</th>\n",
       "      <th>isFraud</th>\n",
       "      <th>isFlaggedFraud</th>\n",
       "    </tr>\n",
       "  </thead>\n",
       "  <tbody>\n",
       "    <tr>\n",
       "      <th>0</th>\n",
       "      <td>-1.703042</td>\n",
       "      <td>0.952399</td>\n",
       "      <td>-0.837184</td>\n",
       "      <td>-1.318825</td>\n",
       "      <td>1.220490</td>\n",
       "      <td>-0.035951</td>\n",
       "      <td>-0.001586</td>\n",
       "    </tr>\n",
       "    <tr>\n",
       "      <th>1</th>\n",
       "      <td>-1.703042</td>\n",
       "      <td>0.952399</td>\n",
       "      <td>-0.891721</td>\n",
       "      <td>-0.538520</td>\n",
       "      <td>1.316232</td>\n",
       "      <td>-0.035951</td>\n",
       "      <td>-0.001586</td>\n",
       "    </tr>\n",
       "    <tr>\n",
       "      <th>2</th>\n",
       "      <td>-1.703042</td>\n",
       "      <td>1.693076</td>\n",
       "      <td>-0.903232</td>\n",
       "      <td>-1.185630</td>\n",
       "      <td>-0.408856</td>\n",
       "      <td>27.815483</td>\n",
       "      <td>-0.001586</td>\n",
       "    </tr>\n",
       "    <tr>\n",
       "      <th>3</th>\n",
       "      <td>-1.703042</td>\n",
       "      <td>-0.528954</td>\n",
       "      <td>-0.903232</td>\n",
       "      <td>1.445742</td>\n",
       "      <td>-0.472820</td>\n",
       "      <td>27.815483</td>\n",
       "      <td>-0.001586</td>\n",
       "    </tr>\n",
       "    <tr>\n",
       "      <th>4</th>\n",
       "      <td>-1.703042</td>\n",
       "      <td>0.952399</td>\n",
       "      <td>-0.824680</td>\n",
       "      <td>0.146834</td>\n",
       "      <td>0.109953</td>\n",
       "      <td>-0.035951</td>\n",
       "      <td>-0.001586</td>\n",
       "    </tr>\n",
       "    <tr>\n",
       "      <th>...</th>\n",
       "      <td>...</td>\n",
       "      <td>...</td>\n",
       "      <td>...</td>\n",
       "      <td>...</td>\n",
       "      <td>...</td>\n",
       "      <td>...</td>\n",
       "      <td>...</td>\n",
       "    </tr>\n",
       "    <tr>\n",
       "      <th>6362615</th>\n",
       "      <td>3.510123</td>\n",
       "      <td>-0.528954</td>\n",
       "      <td>1.418354</td>\n",
       "      <td>1.349554</td>\n",
       "      <td>-0.320647</td>\n",
       "      <td>27.815483</td>\n",
       "      <td>-0.001586</td>\n",
       "    </tr>\n",
       "    <tr>\n",
       "      <th>6362616</th>\n",
       "      <td>3.510123</td>\n",
       "      <td>1.693076</td>\n",
       "      <td>2.526400</td>\n",
       "      <td>-0.784815</td>\n",
       "      <td>-0.647092</td>\n",
       "      <td>27.815483</td>\n",
       "      <td>-0.001586</td>\n",
       "    </tr>\n",
       "    <tr>\n",
       "      <th>6362617</th>\n",
       "      <td>3.510123</td>\n",
       "      <td>-0.528954</td>\n",
       "      <td>2.526400</td>\n",
       "      <td>-1.440909</td>\n",
       "      <td>-0.850659</td>\n",
       "      <td>27.815483</td>\n",
       "      <td>-0.001586</td>\n",
       "    </tr>\n",
       "    <tr>\n",
       "      <th>6362618</th>\n",
       "      <td>3.510123</td>\n",
       "      <td>1.693076</td>\n",
       "      <td>2.526400</td>\n",
       "      <td>-0.503661</td>\n",
       "      <td>-0.568766</td>\n",
       "      <td>27.815483</td>\n",
       "      <td>-0.001586</td>\n",
       "    </tr>\n",
       "    <tr>\n",
       "      <th>6362619</th>\n",
       "      <td>3.510123</td>\n",
       "      <td>-0.528954</td>\n",
       "      <td>2.526400</td>\n",
       "      <td>-1.230845</td>\n",
       "      <td>-0.282350</td>\n",
       "      <td>27.815483</td>\n",
       "      <td>-0.001586</td>\n",
       "    </tr>\n",
       "  </tbody>\n",
       "</table>\n",
       "<p>6362620 rows × 7 columns</p>\n",
       "</div>"
      ],
      "text/plain": [
       "             step      type    amount  nameOrig  nameDest    isFraud  \\\n",
       "0       -1.703042  0.952399 -0.837184 -1.318825  1.220490  -0.035951   \n",
       "1       -1.703042  0.952399 -0.891721 -0.538520  1.316232  -0.035951   \n",
       "2       -1.703042  1.693076 -0.903232 -1.185630 -0.408856  27.815483   \n",
       "3       -1.703042 -0.528954 -0.903232  1.445742 -0.472820  27.815483   \n",
       "4       -1.703042  0.952399 -0.824680  0.146834  0.109953  -0.035951   \n",
       "...           ...       ...       ...       ...       ...        ...   \n",
       "6362615  3.510123 -0.528954  1.418354  1.349554 -0.320647  27.815483   \n",
       "6362616  3.510123  1.693076  2.526400 -0.784815 -0.647092  27.815483   \n",
       "6362617  3.510123 -0.528954  2.526400 -1.440909 -0.850659  27.815483   \n",
       "6362618  3.510123  1.693076  2.526400 -0.503661 -0.568766  27.815483   \n",
       "6362619  3.510123 -0.528954  2.526400 -1.230845 -0.282350  27.815483   \n",
       "\n",
       "         isFlaggedFraud  \n",
       "0             -0.001586  \n",
       "1             -0.001586  \n",
       "2             -0.001586  \n",
       "3             -0.001586  \n",
       "4             -0.001586  \n",
       "...                 ...  \n",
       "6362615       -0.001586  \n",
       "6362616       -0.001586  \n",
       "6362617       -0.001586  \n",
       "6362618       -0.001586  \n",
       "6362619       -0.001586  \n",
       "\n",
       "[6362620 rows x 7 columns]"
      ]
     },
     "execution_count": 64,
     "metadata": {},
     "output_type": "execute_result"
    }
   ],
   "source": [
    "scaled_df"
   ]
  },
  {
   "cell_type": "code",
   "execution_count": 65,
   "id": "941d2519",
   "metadata": {},
   "outputs": [],
   "source": [
    "corr = scaled_df.corr()"
   ]
  },
  {
   "cell_type": "code",
   "execution_count": 66,
   "id": "08b0b5df",
   "metadata": {},
   "outputs": [
    {
     "name": "stdout",
     "output_type": "stream",
     "text": [
      "step              0\n",
      "type              0\n",
      "amount            0\n",
      "nameOrig          0\n",
      "nameDest          0\n",
      "isFraud           0\n",
      "isFlaggedFraud    0\n",
      "dtype: int64\n",
      "isFraud\n",
      "0    6354407\n",
      "1       8213\n",
      "Name: count, dtype: int64\n",
      "isFraud\n",
      "0    99.870918\n",
      "1     0.129082\n",
      "Name: proportion, dtype: float64\n"
     ]
    },
    {
     "data": {
      "text/plain": [
       "'\\n0    99.870918\\n1     0.129082\\n\\nour data set is imbalanced majority(0) is leading\\n'"
      ]
     },
     "execution_count": 66,
     "metadata": {},
     "output_type": "execute_result"
    }
   ],
   "source": [
    "## checking for missing values and data imbalance\n",
    "print(df.isna().sum())\n",
    "\n",
    "## checking for data imbalance\n",
    "print(df['isFraud'].value_counts())\n",
    "\n",
    "## calculating the percentage\n",
    "print(df['isFraud'].value_counts(normalize=True) * 100)\n",
    "\"\"\"\n",
    "0    99.870918\n",
    "1     0.129082\n",
    "\n",
    "our data set is imbalanced majority(0) is leading\n",
    "\"\"\"\n",
    "## balancing using smote or borderline smote"
   ]
  },
  {
   "cell_type": "code",
   "execution_count": 67,
   "id": "411f7cc7",
   "metadata": {},
   "outputs": [],
   "source": [
    "#installing imbalanced-learn module\n",
    "# ! pip install imbalanced-learn"
   ]
  },
  {
   "cell_type": "code",
   "execution_count": 68,
   "id": "c8e5787c",
   "metadata": {},
   "outputs": [],
   "source": [
    "# dropping the heurisitic feature\n",
    "new_df = df.drop('isFlaggedFraud',axis=1)\n"
   ]
  },
  {
   "cell_type": "code",
   "execution_count": 69,
   "id": "0e64b057",
   "metadata": {},
   "outputs": [],
   "source": [
    "#splitting into train test_split\n",
    "X = new_df.drop('isFraud',axis=1)\n",
    "y = new_df['isFraud']\n",
    "X_train,X_test,y_train,y_test = train_test_split(X,y,test_size=0.2,random_state=42,stratify=y) # since our dataset is imbalance so to maintain the proportion of fraud and non fraud cases"
   ]
  },
  {
   "cell_type": "markdown",
   "id": "c9cf6cf3",
   "metadata": {},
   "source": [
    "## Performance Improvements & Optimizations\n",
    "\n",
    "Based on your current fraud detection model, here are key performance improvements needed:\n",
    "\n",
    "### 1. **Data Issues**\n",
    "- **Problem**: Very large SMOTE dataset (10M+ samples) causing memory issues\n",
    "- **Solution**: Use sampling strategies and optimize data handling\n",
    "\n",
    "### 2. **Model Performance Issues**\n",
    "- **Problem**: Random Forest may not be optimal for this imbalanced dataset\n",
    "- **Solution**: Try ensemble methods, gradient boosting, or neural networks\n",
    "\n",
    "### 3. **Feature Engineering Gaps**\n",
    "- **Problem**: Limited feature engineering for fraud detection\n",
    "- **Solution**: Create time-based, transaction pattern, and behavioral features\n",
    "\n",
    "### 4. **Evaluation Metrics**\n",
    "- **Problem**: Accuracy alone insufficient for imbalanced fraud detection\n",
    "- **Solution**: Focus on Precision, Recall, F1-score, AUC-ROC"
   ]
  },
  {
   "cell_type": "code",
   "execution_count": 70,
   "id": "1ed8d839",
   "metadata": {},
   "outputs": [
    {
     "name": "stdout",
     "output_type": "stream",
     "text": [
      "Original distribution: Counter({0: 5083526, 1: 6570})\n",
      "After optimized SMOTE: Counter({0: 5083526, 1: 1016705})\n"
     ]
    }
   ],
   "source": [
    "# PERFORMANCE FIX 1: Optimize SMOTE sampling\n",
    "# Instead of full SMOTE, use strategic sampling for better performance\n",
    "\n",
    "from imblearn.over_sampling import SMOTE\n",
    "from collections import Counter\n",
    "\n",
    "# Check original class distribution\n",
    "print(\"Original distribution:\", Counter(y_train))\n",
    "\n",
    "# Use SMOTE with sampling strategy to create more balanced but manageable dataset\n",
    "# Instead of 1:1 ratio, use 1:5 ratio to reduce computational load\n",
    "smote_balanced = SMOTE(\n",
    "    sampling_strategy=0.2,  # Minority class will be 20% of majority class\n",
    "    random_state=42,\n",
    "    k_neighbors=3  # Reduce neighbors for faster processing\n",
    ")\n",
    "\n",
    "X_train_balanced, y_train_balanced = smote_balanced.fit_resample(X_train, y_train)\n",
    "print(\"After optimized SMOTE:\", Counter(y_train_balanced))"
   ]
  },
  {
   "cell_type": "code",
   "execution_count": 71,
   "id": "a35aa196",
   "metadata": {},
   "outputs": [
    {
     "name": "stdout",
     "output_type": "stream",
     "text": [
      "Creating enhanced features...\n"
     ]
    }
   ],
   "source": [
    "# PERFORMANCE FIX 2: Advanced Feature Engineering for Fraud Detection\n",
    "# Create more meaningful features that capture fraud patterns\n",
    "\n",
    "def create_fraud_features(df):\n",
    "    \"\"\"Create advanced features for better fraud detection\"\"\"\n",
    "    df_enhanced = df.copy()\n",
    "    \n",
    "    # 1. Transaction amount features\n",
    "    df_enhanced['amount_log'] = np.log1p(df_enhanced['amount'])  # Log transform for skewed amounts\n",
    "    df_enhanced['amount_zscore'] = (df_enhanced['amount'] - df_enhanced['amount'].mean()) / df_enhanced['amount'].std()\n",
    "    \n",
    "    # 2. Balance-related features\n",
    "    if 'oldbalanceOrg' in df.columns and 'newbalanceOrig' in df.columns:\n",
    "        df_enhanced['balance_change_orig'] = df_enhanced['newbalanceOrig'] - df_enhanced['oldbalanceOrg']\n",
    "        df_enhanced['balance_ratio_orig'] = df_enhanced['newbalanceOrig'] / (df_enhanced['oldbalanceOrg'] + 1)\n",
    "    \n",
    "    # 3. Transaction type encoding (frequency-based)\n",
    "    type_fraud_rate = df.groupby('type')['isFraud'].mean()\n",
    "    df_enhanced['type_fraud_rate'] = df_enhanced['type'].map(type_fraud_rate)\n",
    "    \n",
    "    # 4. Amount percentile within transaction type\n",
    "    df_enhanced['amount_percentile_by_type'] = df_enhanced.groupby('type')['amount'].rank(pct=True)\n",
    "    \n",
    "    return df_enhanced\n",
    "\n",
    "# Apply feature engineering to our training data\n",
    "print(\"Creating enhanced features...\")\n",
    "# Note: We'll apply this to the original data before train-test split for better results"
   ]
  },
  {
   "cell_type": "code",
   "execution_count": 72,
   "id": "6d0c8ae8",
   "metadata": {},
   "outputs": [
    {
     "name": "stdout",
     "output_type": "stream",
     "text": [
      "Models defined for comparison...\n"
     ]
    }
   ],
   "source": [
    "# PERFORMANCE FIX 3: Better Model Selection & Hyperparameter Tuning\n",
    "from sklearn.ensemble import GradientBoostingClassifier, RandomForestClassifier\n",
    "from sklearn.linear_model import LogisticRegression\n",
    "from sklearn.metrics import classification_report, confusion_matrix, roc_auc_score\n",
    "from sklearn.model_selection import cross_val_score\n",
    "import time\n",
    "\n",
    "# Define multiple models optimized for fraud detection\n",
    "models = {\n",
    "    'Optimized_RandomForest': RandomForestClassifier(\n",
    "        n_estimators=100,  # Reduced for faster training\n",
    "        max_depth=10,      # Prevent overfitting\n",
    "        min_samples_split=20,\n",
    "        min_samples_leaf=10,\n",
    "        class_weight='balanced',  # Handle imbalance\n",
    "        random_state=42,\n",
    "        n_jobs=-1  # Use all cores\n",
    "    ),\n",
    "    \n",
    "    'GradientBoosting': GradientBoostingClassifier(\n",
    "        n_estimators=100,\n",
    "        learning_rate=0.1,\n",
    "        max_depth=6,\n",
    "        subsample=0.8,\n",
    "        random_state=42\n",
    "    ),\n",
    "    \n",
    "    'LogisticRegression': LogisticRegression(\n",
    "        class_weight='balanced',\n",
    "        random_state=42,\n",
    "        max_iter=1000\n",
    "    )\n",
    "}\n",
    "\n",
    "print(\"Models defined for comparison...\")\n",
    "\n"
   ]
  },
  {
   "cell_type": "code",
   "execution_count": 73,
   "id": "94a07a3f",
   "metadata": {},
   "outputs": [
    {
     "name": "stdout",
     "output_type": "stream",
     "text": [
      "Evaluation framework ready...\n"
     ]
    }
   ],
   "source": [
    "# PERFORMANCE FIX 4: Comprehensive Evaluation Metrics\n",
    "from sklearn.metrics import precision_recall_curve, roc_curve, auc\n",
    "import matplotlib.pyplot as plt\n",
    "\n",
    "def evaluate_fraud_model(model, X_test, y_test, model_name=\"Model\"):\n",
    "    \"\"\"\n",
    "    Comprehensive evaluation for fraud detection models\n",
    "    Focus on metrics that matter for imbalanced classification\n",
    "    \"\"\"\n",
    "    # Predictions\n",
    "    y_pred = model.predict(X_test)\n",
    "    y_pred_proba = model.predict_proba(X_test)[:, 1]\n",
    "    \n",
    "    # Classification Report\n",
    "    print(f\"\\n{'='*50}\")\n",
    "    print(f\"EVALUATION RESULTS FOR {model_name}\")\n",
    "    print(f\"{'='*50}\")\n",
    "    print(classification_report(y_test, y_pred))\n",
    "    \n",
    "    # Confusion Matrix\n",
    "    cm = confusion_matrix(y_test, y_pred)\n",
    "    print(f\"\\nConfusion Matrix:\")\n",
    "    print(cm)\n",
    "    \n",
    "    # Calculate important metrics\n",
    "    tn, fp, fn, tp = cm.ravel()\n",
    "    precision = tp / (tp + fp) if (tp + fp) > 0 else 0\n",
    "    recall = tp / (tp + fn) if (tp + fn) > 0 else 0\n",
    "    specificity = tn / (tn + fp) if (tn + fp) > 0 else 0\n",
    "    \n",
    "    print(f\"\\nKey Fraud Detection Metrics:\")\n",
    "    print(f\"Precision (Fraud Detection Accuracy): {precision:.4f}\")\n",
    "    print(f\"Recall (Fraud Catch Rate): {recall:.4f}\")\n",
    "    print(f\"Specificity (Legitimate Transaction Accuracy): {specificity:.4f}\")\n",
    "    print(f\"ROC-AUC Score: {roc_auc_score(y_test, y_pred_proba):.4f}\")\n",
    "    \n",
    "    # Cost Analysis (assuming fraud costs 100x more than false positive)\n",
    "    fraud_cost = fn * 100  # Missing fraud costs 100 units\n",
    "    false_positive_cost = fp * 1  # False alarm costs 1 unit\n",
    "    total_cost = fraud_cost + false_positive_cost\n",
    "    \n",
    "    print(f\"\\nCost Analysis (Business Impact):\")\n",
    "    print(f\"Missed Fraud Cost: {fraud_cost}\")\n",
    "    print(f\"False Positive Cost: {false_positive_cost}\")\n",
    "    print(f\"Total Cost: {total_cost}\")\n",
    "    \n",
    "    return {\n",
    "        'precision': precision,\n",
    "        'recall': recall,\n",
    "        'roc_auc': roc_auc_score(y_test, y_pred_proba),\n",
    "        'total_cost': total_cost\n",
    "    }\n",
    "\n",
    "print(\"Evaluation framework ready...\")"
   ]
  },
  {
   "cell_type": "code",
   "execution_count": 74,
   "id": "170049b7",
   "metadata": {},
   "outputs": [
    {
     "name": "stdout",
     "output_type": "stream",
     "text": [
      "Starting optimized model training...\n",
      "Training set size: 6100231\n",
      "Test set size: 1272524\n",
      "\n",
      "Training Optimized_RandomForest...\n",
      "Training completed in 222.98 seconds\n",
      "\n",
      "==================================================\n",
      "EVALUATION RESULTS FOR Optimized_RandomForest\n",
      "==================================================\n",
      "              precision    recall  f1-score   support\n",
      "\n",
      "           0       1.00      0.90      0.95   1270881\n",
      "           1       0.01      0.85      0.02      1643\n",
      "\n",
      "    accuracy                           0.90   1272524\n",
      "   macro avg       0.51      0.88      0.48   1272524\n",
      "weighted avg       1.00      0.90      0.95   1272524\n",
      "\n",
      "\n",
      "Confusion Matrix:\n",
      "[[1143782  127099]\n",
      " [    239    1404]]\n",
      "\n",
      "Key Fraud Detection Metrics:\n",
      "Precision (Fraud Detection Accuracy): 0.0109\n",
      "Recall (Fraud Catch Rate): 0.8545\n",
      "Specificity (Legitimate Transaction Accuracy): 0.9000\n",
      "ROC-AUC Score: 0.9450\n",
      "\n",
      "Cost Analysis (Business Impact):\n",
      "Missed Fraud Cost: 23900\n",
      "False Positive Cost: 127099\n",
      "Total Cost: 150999\n",
      "\n",
      "Training GradientBoosting...\n",
      "Training completed in 1588.32 seconds\n",
      "\n",
      "==================================================\n",
      "EVALUATION RESULTS FOR GradientBoosting\n",
      "==================================================\n",
      "              precision    recall  f1-score   support\n",
      "\n",
      "           0       1.00      0.98      0.99   1270881\n",
      "           1       0.05      0.68      0.09      1643\n",
      "\n",
      "    accuracy                           0.98   1272524\n",
      "   macro avg       0.52      0.83      0.54   1272524\n",
      "weighted avg       1.00      0.98      0.99   1272524\n",
      "\n",
      "\n",
      "Confusion Matrix:\n",
      "[[1249688   21193]\n",
      " [    530    1113]]\n",
      "\n",
      "Key Fraud Detection Metrics:\n",
      "Precision (Fraud Detection Accuracy): 0.0499\n",
      "Recall (Fraud Catch Rate): 0.6774\n",
      "Specificity (Legitimate Transaction Accuracy): 0.9833\n",
      "ROC-AUC Score: 0.9599\n",
      "\n",
      "Cost Analysis (Business Impact):\n",
      "Missed Fraud Cost: 53000\n",
      "False Positive Cost: 21193\n",
      "Total Cost: 74193\n",
      "\n",
      "Training LogisticRegression...\n",
      "Training completed in 13.03 seconds\n",
      "\n",
      "==================================================\n",
      "EVALUATION RESULTS FOR LogisticRegression\n",
      "==================================================\n",
      "              precision    recall  f1-score   support\n",
      "\n",
      "           0       1.00      0.72      0.83   1270881\n",
      "           1       0.00      0.86      0.01      1643\n",
      "\n",
      "    accuracy                           0.72   1272524\n",
      "   macro avg       0.50      0.79      0.42   1272524\n",
      "weighted avg       1.00      0.72      0.83   1272524\n",
      "\n",
      "\n",
      "Confusion Matrix:\n",
      "[[910125 360756]\n",
      " [   231   1412]]\n",
      "\n",
      "Key Fraud Detection Metrics:\n",
      "Precision (Fraud Detection Accuracy): 0.0039\n",
      "Recall (Fraud Catch Rate): 0.8594\n",
      "Specificity (Legitimate Transaction Accuracy): 0.7161\n",
      "ROC-AUC Score: 0.8665\n",
      "\n",
      "Cost Analysis (Business Impact):\n",
      "Missed Fraud Cost: 23100\n",
      "False Positive Cost: 360756\n",
      "Total Cost: 383856\n"
     ]
    }
   ],
   "source": [
    "# PERFORMANCE FIX 5: Memory Optimization & Efficient Training\n",
    "import gc\n",
    "from sklearn.model_selection import StratifiedKFold\n",
    "\n",
    "# Train and evaluate models with optimized data\n",
    "def train_and_evaluate_models(X_train, X_test, y_train, y_test):\n",
    "    \"\"\"Train multiple models and compare performance\"\"\"\n",
    "    results = {}\n",
    "    \n",
    "    for name, model in models.items():\n",
    "        print(f\"\\nTraining {name}...\")\n",
    "        start_time = time.time()\n",
    "        \n",
    "        # Train model\n",
    "        model.fit(X_train, y_train)\n",
    "        training_time = time.time() - start_time\n",
    "        \n",
    "        print(f\"Training completed in {training_time:.2f} seconds\")\n",
    "        \n",
    "        # Evaluate model\n",
    "        model_results = evaluate_fraud_model(model, X_test, y_test, name)\n",
    "        model_results['training_time'] = training_time\n",
    "        results[name] = model_results\n",
    "        \n",
    "        # Memory cleanup\n",
    "        gc.collect()\n",
    "    \n",
    "    return results\n",
    "\n",
    "# Use the optimized balanced dataset (not the huge SMOTE dataset)\n",
    "print(\"Starting optimized model training...\")\n",
    "print(f\"Training set size: {len(X_train_balanced)}\")\n",
    "print(f\"Test set size: {len(X_test)}\")\n",
    "\n",
    "# Train all models and compare\n",
    "model_results = train_and_evaluate_models(X_train_balanced, X_test, y_train_balanced, y_test)"
   ]
  },
  {
   "cell_type": "code",
   "execution_count": 75,
   "id": "8d3946fc",
   "metadata": {},
   "outputs": [
    {
     "name": "stdout",
     "output_type": "stream",
     "text": [
      "\n",
      "================================================================================\n",
      "MODEL COMPARISON RESULTS\n",
      "================================================================================\n",
      "                        precision  recall  roc_auc  total_cost  training_time\n",
      "Optimized_RandomForest     0.0109  0.8545   0.9450    150999.0       222.9762\n",
      "GradientBoosting           0.0499  0.6774   0.9599     74193.0      1588.3181\n",
      "LogisticRegression         0.0039  0.8594   0.8665    383856.0        13.0304\n",
      "\n",
      "🏆 RECOMMENDED MODEL: Optimized_RandomForest\n",
      "Business Score: 0.5499\n",
      "Key Strengths:\n",
      "  - Precision: 0.0109\n",
      "  - Recall: 0.8545\n",
      "  - ROC-AUC: 0.9450\n",
      "  - Training Time: 222.98s\n"
     ]
    }
   ],
   "source": [
    "# PERFORMANCE FIX 6: Model Comparison & Selection\n",
    "import pandas as pd\n",
    "\n",
    "def compare_models(results):\n",
    "    \"\"\"Compare all models and recommend the best one\"\"\"\n",
    "    comparison_df = pd.DataFrame(results).T\n",
    "    \n",
    "    print(\"\\n\" + \"=\"*80)\n",
    "    print(\"MODEL COMPARISON RESULTS\")\n",
    "    print(\"=\"*80)\n",
    "    print(comparison_df.round(4))\n",
    "    \n",
    "    # Rank models by business value (considering cost)\n",
    "    comparison_df['business_score'] = (\n",
    "        comparison_df['precision'] * 0.3 +  # 30% weight on precision\n",
    "        comparison_df['recall'] * 0.4 +     # 40% weight on recall (catching fraud is critical)\n",
    "        comparison_df['roc_auc'] * 0.3 -     # 30% weight on overall performance\n",
    "        (comparison_df['total_cost'] / comparison_df['total_cost'].max()) * 0.2  # Penalty for high cost\n",
    "    )\n",
    "    \n",
    "    best_model = comparison_df['business_score'].idxmax()\n",
    "    \n",
    "    print(f\"\\n🏆 RECOMMENDED MODEL: {best_model}\")\n",
    "    print(f\"Business Score: {comparison_df.loc[best_model, 'business_score']:.4f}\")\n",
    "    print(f\"Key Strengths:\")\n",
    "    print(f\"  - Precision: {comparison_df.loc[best_model, 'precision']:.4f}\")\n",
    "    print(f\"  - Recall: {comparison_df.loc[best_model, 'recall']:.4f}\")\n",
    "    print(f\"  - ROC-AUC: {comparison_df.loc[best_model, 'roc_auc']:.4f}\")\n",
    "    print(f\"  - Training Time: {comparison_df.loc[best_model, 'training_time']:.2f}s\")\n",
    "    \n",
    "    return best_model, comparison_df\n",
    "\n",
    "# Compare all trained models\n",
    "best_model_name, comparison_results = compare_models(model_results)"
   ]
  },
  {
   "cell_type": "code",
   "execution_count": null,
   "id": "2bd15fb9",
   "metadata": {},
   "outputs": [],
   "source": [
    "\"\"\"\n",
    "1. Data cleaning including missing values, outliers and multi-collinearity.\n",
    "2. Describe your fraud detection model in elaboration.\n",
    "3. How did you select variables to be included in the model?\n",
    "4. Demonstrate the performance of the model by using best set of tools.\n",
    "5. What are the key factors that predict fraudulent customer?\n",
    "6. Do these factors make sense? If yes, How? If not, How not?\n",
    "7. What kind of prevention should be adopted while company update its infrastructure?\n",
    "8. Assuming these actions have been implemented, how would you determine if they work?\n",
    "\"\"\"\n",
    "\n",
    "\"\"\"\n",
    "ANSWERS>>>>>>\n",
    "1. Data cleaning Done,handled missing values and capping the outliers and created new_features by combininig collinear features\n",
    "\n",
    "2. My fraud detection model is a type of supervised classification model. where we have to detect the fraudlent transaction based on important features like `type of transactions`,`amount transferred`,`time stamp`,etc. here i use optimized-random-forest optimized in a sense to work with imbalanced datasets.\n",
    "using this model i gain `90% ` of accuracy.\n",
    "\n",
    "3. based on the correlation b/w independet features to the target variable.\n",
    "\n",
    "4.perfomance metrics and importance derived in code.\n",
    "\n",
    "5. yes, most fraudlent activity can directly be inferenced by features like step time of transaction,amount (higher amount means more fraudlent activity) and also the type of transaction(transfer)\n",
    "\n",
    "6.it is biased towards dominant classes. it is neccessary to handle imbalance datasets.\n",
    "\"\"\"\n"
   ]
  },
  {
   "cell_type": "code",
   "execution_count": 81,
   "id": "84b9d35b",
   "metadata": {},
   "outputs": [
    {
     "name": "stdout",
     "output_type": "stream",
     "text": [
      "🔍 ANALYZING KEY FRAUD PREDICTORS\n",
      "============================================================\n",
      "\n",
      "📊 MODEL-BASED FEATURE IMPORTANCE:\n",
      "    feature  importance\n",
      "1      type    0.289792\n",
      "2    amount    0.280567\n",
      "0      step    0.217754\n",
      "4  nameDest    0.208839\n",
      "3  nameOrig    0.003047\n"
     ]
    },
    {
     "data": {
      "image/png": "[encoded data removed]",
      "text/plain": [
       "<Figure size 1200x800 with 1 Axes>"
      ]
     },
     "metadata": {},
     "output_type": "display_data"
    }
   ],
   "source": [
    "# ANALYSIS: Key Factors that Predict Fraudulent Customers\n",
    "import matplotlib.pyplot as plt\n",
    "import pandas as pd\n",
    "from sklearn.inspection import permutation_importance\n",
    "\n",
    "def analyze_fraud_predictors(model, X_train, X_test, y_test, feature_names):\n",
    "    \"\"\"\n",
    "    Comprehensive analysis of what factors predict fraud\n",
    "    \"\"\"\n",
    "    print(\"🔍 ANALYZING KEY FRAUD PREDICTORS\")\n",
    "    print(\"=\"*60)\n",
    "    \n",
    "    # 1. Feature Importance from the model\n",
    "    if hasattr(model, 'feature_importances_'):\n",
    "        feature_importance = pd.DataFrame({\n",
    "            'feature': feature_names,\n",
    "            'importance': model.feature_importances_\n",
    "        }).sort_values('importance', ascending=False)\n",
    "        \n",
    "        print(\"\\n📊 MODEL-BASED FEATURE IMPORTANCE:\")\n",
    "        print(feature_importance.head(10))\n",
    "        \n",
    "        # Plot feature importance\n",
    "        plt.figure(figsize=(12, 8))\n",
    "        top_features = feature_importance.head(10)\n",
    "        plt.barh(range(len(top_features)), top_features['importance'], \n",
    "                color='skyblue', edgecolor='navy')\n",
    "        plt.yticks(range(len(top_features)), top_features['feature'])\n",
    "        plt.xlabel('Feature Importance')\n",
    "        plt.title('Important Features for Fraud Detection')\n",
    "        plt.gca().invert_yaxis()\n",
    "        plt.tight_layout()\n",
    "        plt.show()\n",
    "    \n",
    "    return feature_importance if hasattr(model, 'feature_importances_') else None\n",
    "\n",
    "# Get the best model from our comparison\n",
    "best_model_obj = models[best_model_name]\n",
    "feature_names = X_train.columns.tolist()\n",
    "\n",
    "# Analyze fraud predictors\n",
    "model_importance = analyze_fraud_predictors(\n",
    "    best_model_obj, X_train_balanced, X_test, y_test, feature_names\n",
    ")"
   ]
  },
  {
   "cell_type": "code",
   "execution_count": 82,
   "id": "0029f25f",
   "metadata": {},
   "outputs": [
    {
     "name": "stdout",
     "output_type": "stream",
     "text": [
      "\n",
      "📊 CORRELATION WITH FRAUD TARGET\n",
      "=============================================\n",
      "Top Positive Correlations (Higher values → More Fraud):\n",
      "isFraud           1.000000\n",
      "amount            0.048094\n",
      "isFlaggedFraud    0.044109\n",
      "step              0.031578\n",
      "type              0.020833\n",
      "nameOrig         -0.000464\n",
      "nameDest         -0.021963\n",
      "Name: isFraud, dtype: float64\n",
      "\n",
      "Top Negative Correlations (Higher values → Less Fraud):\n",
      "isFraud           1.000000\n",
      "amount            0.048094\n",
      "isFlaggedFraud    0.044109\n",
      "step              0.031578\n",
      "type              0.020833\n",
      "nameOrig         -0.000464\n",
      "nameDest         -0.021963\n",
      "Name: isFraud, dtype: float64\n"
     ]
    },
    {
     "data": {
      "image/png": "[encoded data removed]",
      "text/plain": [
       "<Figure size 1000x800 with 1 Axes>"
      ]
     },
     "metadata": {},
     "output_type": "display_data"
    }
   ],
   "source": [
    "# CORRELATION ANALYSIS: What Features Correlate with Fraud\n",
    "def fraud_correlation_analysis(df):\n",
    "    \"\"\"\n",
    "    Analyze correlations between features and fraud\n",
    "    \"\"\"\n",
    "    print(\"\\n📊 CORRELATION WITH FRAUD TARGET\")\n",
    "    print(\"=\"*45)\n",
    "    \n",
    "    # Calculate correlations with fraud target\n",
    "    correlations = df.corr()['isFraud'].sort_values(ascending=False)\n",
    "    \n",
    "    print(\"Top Positive Correlations (Higher values → More Fraud):\")\n",
    "    print(correlations.head(10))\n",
    "    \n",
    "    print(\"\\nTop Negative Correlations (Higher values → Less Fraud):\")\n",
    "    print(correlations.tail(10))\n",
    "    \n",
    "    # Plot correlation with fraud\n",
    "    plt.figure(figsize=(10, 8))\n",
    "    fraud_corr = correlations.drop('isFraud')  # Remove self-correlation\n",
    "    colors = ['red' if x > 0 else 'blue' for x in fraud_corr.values]\n",
    "    \n",
    "    plt.barh(range(len(fraud_corr)), fraud_corr.values, color=colors, alpha=0.7)\n",
    "    plt.yticks(range(len(fraud_corr)), fraud_corr.index)\n",
    "    plt.xlabel('Correlation with Fraud')\n",
    "    plt.title('Feature Correlations with Fraud Target')\n",
    "    plt.axvline(x=0, color='black', linestyle='-', alpha=0.3)\n",
    "    plt.tight_layout()\n",
    "    plt.show()\n",
    "    \n",
    "    return correlations\n",
    "\n",
    "fraud_correlations = fraud_correlation_analysis(df)"
   ]
  }
 ],
 "metadata": {
  "kernelspec": {
   "display_name": "tensorflow-metal",
   "language": "python",
   "name": "python3"
  },
  "language_info": {
   "codemirror_mode": {
    "name": "ipython",
    "version": 3
   },
   "file_extension": ".py",
   "mimetype": "text/x-python",
   "name": "python",
   "nbconvert_exporter": "python",
   "pygments_lexer": "ipython3",
   "version": "3.12.11"
  }
 },
 "nbformat": 4,
 "nbformat_minor": 5
}
